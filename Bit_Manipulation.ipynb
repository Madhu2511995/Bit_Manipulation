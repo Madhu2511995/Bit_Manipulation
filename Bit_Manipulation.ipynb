{
  "nbformat": 4,
  "nbformat_minor": 0,
  "metadata": {
    "colab": {
      "provenance": []
    },
    "kernelspec": {
      "name": "python3",
      "display_name": "Python 3"
    },
    "language_info": {
      "name": "python"
    }
  },
  "cells": [
    {
      "cell_type": "markdown",
      "source": [
        "# **Bit Manipulation**"
      ],
      "metadata": {
        "id": "ZHwRyyCwSRD2"
      }
    },
    {
      "cell_type": "markdown",
      "source": [
        "### **Decimal to Binary**"
      ],
      "metadata": {
        "id": "8Z6HNxNhScd7"
      }
    },
    {
      "cell_type": "code",
      "source": [
        "# TC:0(log2**n)\n",
        "# SC:0(log2**n)\n",
        "def decimal_to_binary(n):\n",
        "  ans=''\n",
        "  while n!=1:\n",
        "    rem=n%2\n",
        "    ans+=str(rem)\n",
        "    n=n//2\n",
        "  ans+='1'\n",
        "  return ans[::-1]\n",
        "decimal_to_binary(9)"
      ],
      "metadata": {
        "colab": {
          "base_uri": "https://localhost:8080/",
          "height": 35
        },
        "id": "5Ywyxzs0SXqN",
        "outputId": "3684265a-bde4-433c-df48-9a370bcfcfbe"
      },
      "execution_count": null,
      "outputs": [
        {
          "output_type": "execute_result",
          "data": {
            "text/plain": [
              "'1001'"
            ],
            "application/vnd.google.colaboratory.intrinsic+json": {
              "type": "string"
            }
          },
          "metadata": {},
          "execution_count": 10
        }
      ]
    },
    {
      "cell_type": "code",
      "source": [
        "# TC:0(log2**n)\n",
        "# SC:0(log2**n)\n",
        "def decimal_to_binary(n):\n",
        "  ans=''\n",
        "  while n!=0:\n",
        "    if n%2==1:\n",
        "      ans+='1'\n",
        "    else:\n",
        "      ans+='0'\n",
        "    n=n//2\n",
        "  return ans[::-1]\n",
        "decimal_to_binary(8)"
      ],
      "metadata": {
        "colab": {
          "base_uri": "https://localhost:8080/",
          "height": 35
        },
        "id": "Sl4zIZWwSXtF",
        "outputId": "4df57d25-b281-430e-e402-be49fce76adb"
      },
      "execution_count": null,
      "outputs": [
        {
          "output_type": "execute_result",
          "data": {
            "text/plain": [
              "'1000'"
            ],
            "application/vnd.google.colaboratory.intrinsic+json": {
              "type": "string"
            }
          },
          "metadata": {},
          "execution_count": 4
        }
      ]
    },
    {
      "cell_type": "markdown",
      "source": [
        "### **Convert Binary to decimal**"
      ],
      "metadata": {
        "id": "Y46MguffWtdA"
      }
    },
    {
      "cell_type": "code",
      "source": [
        "# TC:0(n)\n",
        "# SC:0(1)\n",
        "def binary_to_decimal(b):\n",
        "  n=len(b)\n",
        "  pow_of_two=1\n",
        "  num=0\n",
        "  for i in range(n-1,-1,-1):\n",
        "    if b[i]=='1':\n",
        "      num+=pow_of_two\n",
        "    pow_of_two=pow_of_two*2\n",
        "  return num\n",
        "\n",
        "b='1000'\n",
        "binary_to_decimal(b)"
      ],
      "metadata": {
        "colab": {
          "base_uri": "https://localhost:8080/"
        },
        "id": "3xe6lsfmWswg",
        "outputId": "5fbcab9f-77ac-49fe-f46c-e652446d4de6"
      },
      "execution_count": null,
      "outputs": [
        {
          "output_type": "execute_result",
          "data": {
            "text/plain": [
              "8"
            ]
          },
          "metadata": {},
          "execution_count": 11
        }
      ]
    },
    {
      "cell_type": "markdown",
      "source": [
        "### **Swap Of two number**"
      ],
      "metadata": {
        "id": "kDGHtjEynico"
      }
    },
    {
      "cell_type": "code",
      "source": [
        "a=5\n",
        "b=6\n",
        "a=a^b\n",
        "b=a^b\n",
        "a=a^b\n",
        "print(a,b)"
      ],
      "metadata": {
        "colab": {
          "base_uri": "https://localhost:8080/"
        },
        "id": "UvtwLrbnSXv_",
        "outputId": "632ca53c-8689-4b30-f99b-9db1470c7805"
      },
      "execution_count": null,
      "outputs": [
        {
          "output_type": "stream",
          "name": "stdout",
          "text": [
            "6 5\n"
          ]
        }
      ]
    },
    {
      "cell_type": "markdown",
      "source": [
        "### **Check nth bit is set or not**"
      ],
      "metadata": {
        "id": "XciCH9sopOG9"
      }
    },
    {
      "cell_type": "code",
      "source": [
        "# Use left shift Operator\n",
        "# TC:O(1)\n",
        "# SC:O(1)\n",
        "a=13\n",
        "n=2\n",
        "if a &(1<<n)!=0:\n",
        "  print(True)\n",
        "else:\n",
        "  print(False)"
      ],
      "metadata": {
        "colab": {
          "base_uri": "https://localhost:8080/"
        },
        "id": "OIBWYn1qSXzB",
        "outputId": "ab31d805-df92-4f91-a7dc-86285a102159"
      },
      "execution_count": null,
      "outputs": [
        {
          "output_type": "stream",
          "name": "stdout",
          "text": [
            "True\n"
          ]
        }
      ]
    },
    {
      "cell_type": "code",
      "source": [
        "# Use Right shift Operator\n",
        "# TC:O(1)\n",
        "# SC:O(1)\n",
        "a=13\n",
        "n=2\n",
        "if 1 &(a>>n)!=0:\n",
        "  print(True)\n",
        "else:\n",
        "  print(False)"
      ],
      "metadata": {
        "colab": {
          "base_uri": "https://localhost:8080/"
        },
        "id": "3g-yle99SX2F",
        "outputId": "8055f51b-96f8-44a0-b09f-370229a52e37"
      },
      "execution_count": null,
      "outputs": [
        {
          "output_type": "stream",
          "name": "stdout",
          "text": [
            "True\n"
          ]
        }
      ]
    },
    {
      "cell_type": "markdown",
      "source": [
        "### **Set the nth bit**"
      ],
      "metadata": {
        "id": "bzhqa4eQC7IO"
      }
    },
    {
      "cell_type": "code",
      "source": [
        "# TC:O(1)\n",
        "# SC:O(1)\n",
        "a=10\n",
        "n=2\n",
        "ans=a | (1<<n)\n",
        "print(ans)"
      ],
      "metadata": {
        "colab": {
          "base_uri": "https://localhost:8080/"
        },
        "id": "6QF4f-FVSX5K",
        "outputId": "1bbc859b-76d3-4efe-96c7-30f457c554d4"
      },
      "execution_count": null,
      "outputs": [
        {
          "output_type": "stream",
          "name": "stdout",
          "text": [
            "14\n"
          ]
        }
      ]
    },
    {
      "cell_type": "markdown",
      "source": [
        "### **Clear the nth bit**"
      ],
      "metadata": {
        "id": "pjEaAWTgFVYu"
      }
    },
    {
      "cell_type": "code",
      "source": [
        "# TC:O(1)\n",
        "# SC:O(1)\n",
        "a=14\n",
        "n=2\n",
        "ans=a & ~(1<<n)\n",
        "print(ans)"
      ],
      "metadata": {
        "colab": {
          "base_uri": "https://localhost:8080/"
        },
        "id": "7ZALJye1SZXc",
        "outputId": "b5a1e672-b165-4541-8c5a-a3cff32a1ec1"
      },
      "execution_count": null,
      "outputs": [
        {
          "output_type": "stream",
          "name": "stdout",
          "text": [
            "10\n"
          ]
        }
      ]
    },
    {
      "cell_type": "markdown",
      "source": [
        "### **Toggle the nth bit**\n",
        "* if nth bit is 1 the\n",
        "\n",
        "       make nth bit 1 to 0\n",
        "\n",
        "* if nth bit is 0 the\n",
        "\n",
        "       make nth bit 0 to 1"
      ],
      "metadata": {
        "id": "7We28iSGF5L2"
      }
    },
    {
      "cell_type": "code",
      "source": [
        "# TC:O(1)\n",
        "# SC:O(1)\n",
        "a=13\n",
        "n=2\n",
        "ans=a ^ (1<<n)\n",
        "print(ans)"
      ],
      "metadata": {
        "colab": {
          "base_uri": "https://localhost:8080/"
        },
        "id": "CeANimqFSZaT",
        "outputId": "c3bafd73-eee7-479e-fe7d-d80198ea6627"
      },
      "execution_count": null,
      "outputs": [
        {
          "output_type": "stream",
          "name": "stdout",
          "text": [
            "9\n"
          ]
        }
      ]
    },
    {
      "cell_type": "markdown",
      "source": [
        "### **Remove The last set bit (right most bit)**"
      ],
      "metadata": {
        "id": "0JFuTwlPHyHq"
      }
    },
    {
      "cell_type": "code",
      "source": [
        "# TC:O(1)\n",
        "# SC:O(1)\n",
        "n=10\n",
        "print(n & (n-1))"
      ],
      "metadata": {
        "colab": {
          "base_uri": "https://localhost:8080/"
        },
        "id": "i0vh1r6MHwyO",
        "outputId": "a259b960-36dc-4fa8-c8ae-95223439b287"
      },
      "execution_count": null,
      "outputs": [
        {
          "output_type": "stream",
          "name": "stdout",
          "text": [
            "8\n"
          ]
        }
      ]
    },
    {
      "cell_type": "markdown",
      "source": [
        "### **Check number is power of 2 or not**"
      ],
      "metadata": {
        "id": "grTEntAQK5XG"
      }
    },
    {
      "cell_type": "code",
      "source": [
        "n=10\n",
        "if n==0:\n",
        "  print(False)\n",
        "if n & (n-1)==0:\n",
        "  print(True)\n",
        "else:\n",
        "  print(False)"
      ],
      "metadata": {
        "colab": {
          "base_uri": "https://localhost:8080/"
        },
        "id": "mFtd64VtSZc8",
        "outputId": "343719e0-2820-4d56-c0e0-a8b49d3e7688"
      },
      "execution_count": null,
      "outputs": [
        {
          "output_type": "stream",
          "name": "stdout",
          "text": [
            "False\n"
          ]
        }
      ]
    },
    {
      "cell_type": "markdown",
      "source": [
        "### **Count the number of set bit of given number**"
      ],
      "metadata": {
        "id": "O_PDivmARBbS"
      }
    },
    {
      "cell_type": "code",
      "source": [
        "\n",
        "def count_set_bit(n):\n",
        "  cnt=0\n",
        "  while n!=0:\n",
        "    if n%2==1:\n",
        "      cnt+=1\n",
        "    n=n//2\n",
        "  return cnt\n",
        "\n",
        "n=16\n",
        "count_set_bit(n)\n"
      ],
      "metadata": {
        "colab": {
          "base_uri": "https://localhost:8080/"
        },
        "id": "vyvmuV_uSZft",
        "outputId": "8b866675-7f02-40aa-b1dc-239078ccbd42"
      },
      "execution_count": null,
      "outputs": [
        {
          "output_type": "execute_result",
          "data": {
            "text/plain": [
              "1"
            ]
          },
          "metadata": {},
          "execution_count": 17
        }
      ]
    },
    {
      "cell_type": "code",
      "source": [
        "def count_set_bit(n):\n",
        "  cnt=0\n",
        "  while n!=0:\n",
        "    cnt+=n & 1 # Check number is odd\n",
        "    n=n>>1 # do same n//2\n",
        "  return cnt\n",
        "\n",
        "n=10\n",
        "count_set_bit(n)"
      ],
      "metadata": {
        "colab": {
          "base_uri": "https://localhost:8080/"
        },
        "id": "F7yalZpSSZiV",
        "outputId": "34adcdd8-1f0c-4921-e4a3-e6cc92e58523"
      },
      "execution_count": null,
      "outputs": [
        {
          "output_type": "execute_result",
          "data": {
            "text/plain": [
              "2"
            ]
          },
          "metadata": {},
          "execution_count": 19
        }
      ]
    },
    {
      "cell_type": "markdown",
      "source": [
        "### **Divide Two Integers without using Multiplication and Division Operators | Bit Manipulation**"
      ],
      "metadata": {
        "id": "F1PCUrPKYB8B"
      }
    },
    {
      "cell_type": "code",
      "source": [
        "# Give Time Limit Exceeded\n",
        "def divide(dividend: int, divisor: int) -> int:\n",
        "  sumn=0\n",
        "  cnt=0\n",
        "  while sumn+divisor<=dividend:\n",
        "    cnt+=1\n",
        "    sumn+=divisor\n",
        "  return cnt\n",
        "divide(10,3)"
      ],
      "metadata": {
        "colab": {
          "base_uri": "https://localhost:8080/"
        },
        "id": "tVFtpfPcSZlA",
        "outputId": "6aea080e-f10b-47af-e0b5-84a5fd8b9fd5"
      },
      "execution_count": null,
      "outputs": [
        {
          "output_type": "execute_result",
          "data": {
            "text/plain": [
              "3"
            ]
          },
          "metadata": {},
          "execution_count": 24
        }
      ]
    },
    {
      "cell_type": "code",
      "source": [
        "# TC:O(log2**n)**2\n",
        "# SC:O(1)\n",
        "def divide(dividend: int, divisor: int) -> int:\n",
        "  if dividend==divisor:\n",
        "    return 1\n",
        "  sign=True\n",
        "  if dividend>=0 and divisor<0:\n",
        "    sign=False\n",
        "  if dividend<0 and divisor>=0:\n",
        "    sign=False\n",
        "  ans=0\n",
        "\n",
        "  n=abs(dividend)\n",
        "  d=abs(divisor)\n",
        "  while n>=d:\n",
        "    cnt=0\n",
        "    #same as d*2**cnt\n",
        "    while n>=(d<<cnt+1):\n",
        "      cnt+=1\n",
        "    ans+=1<<cnt # same as 2**cnt\n",
        "    n=n-(d*(1<<cnt))\n",
        "  if ans>=2**31 and sign==True:\n",
        "    return 2**31-1\n",
        "  if ans>=2**31 and sign==False:\n",
        "    return 2**31\n",
        "  return  ans if sign is True else -1*ans\n",
        "\n",
        "\n",
        "divide(-100,3)"
      ],
      "metadata": {
        "colab": {
          "base_uri": "https://localhost:8080/"
        },
        "id": "pFcq2yY3SZnu",
        "outputId": "0d8c944c-5d94-431c-e7d0-a600fbc23070"
      },
      "execution_count": null,
      "outputs": [
        {
          "output_type": "execute_result",
          "data": {
            "text/plain": [
              "-33"
            ]
          },
          "metadata": {},
          "execution_count": 27
        }
      ]
    },
    {
      "cell_type": "markdown",
      "source": [
        "### **Minimum Bit Flips to Convert Number**"
      ],
      "metadata": {
        "id": "A0lTeMo4J2LB"
      }
    },
    {
      "cell_type": "code",
      "source": [
        "# TC:O(31)\n",
        "#SC:O(1)\n",
        "start=10\n",
        "goal=7\n",
        "ans=start^goal\n",
        "cnt=0\n",
        "for i in range(32):\n",
        "  if ans &(1<<i):\n",
        "    cnt+=1\n",
        "print(cnt)"
      ],
      "metadata": {
        "id": "Y9Rf7JIqSZqU",
        "colab": {
          "base_uri": "https://localhost:8080/"
        },
        "outputId": "48c3a72e-6917-406b-a39e-a30f9096a66d"
      },
      "execution_count": null,
      "outputs": [
        {
          "output_type": "stream",
          "name": "stdout",
          "text": [
            "3\n"
          ]
        }
      ]
    },
    {
      "cell_type": "code",
      "source": [
        "# TC:O(log2(start^goal))\n",
        "#SC:O(1)\n",
        "start=10\n",
        "goal=7\n",
        "ans=start^goal\n",
        "cnt=0\n",
        "while ans!=0:\n",
        "  if ans%2!=0:\n",
        "    cnt+=1\n",
        "  ans=ans//2\n",
        "print(cnt)"
      ],
      "metadata": {
        "id": "Lof4SRgESZtD",
        "colab": {
          "base_uri": "https://localhost:8080/"
        },
        "outputId": "569ce0a5-ebcb-47d4-dcea-31c5678e9587"
      },
      "execution_count": null,
      "outputs": [
        {
          "output_type": "stream",
          "name": "stdout",
          "text": [
            "3\n"
          ]
        }
      ]
    },
    {
      "cell_type": "markdown",
      "source": [
        "### **Single Number-I**"
      ],
      "metadata": {
        "id": "uVsVb3dyM7rB"
      }
    },
    {
      "cell_type": "code",
      "source": [
        "# TC:O(nlog(size of dict))+O(size of dict)\n",
        "#SC:O(size of dict)\n",
        "num=[4,2,1,2,1,3,3]\n",
        "d={}\n",
        "for i in num:\n",
        "  if i not in d:\n",
        "    d[i]=1\n",
        "  else:\n",
        "    d[i]+=1\n",
        "for k,v in d.items():\n",
        "  if v==1:\n",
        "    print(k)"
      ],
      "metadata": {
        "id": "Wx4LeDeJSZvr",
        "colab": {
          "base_uri": "https://localhost:8080/"
        },
        "outputId": "358bd77d-cb2e-4133-b242-1886cbba40dd"
      },
      "execution_count": null,
      "outputs": [
        {
          "output_type": "stream",
          "name": "stdout",
          "text": [
            "4\n"
          ]
        }
      ]
    },
    {
      "cell_type": "code",
      "source": [
        "# TC:O(n)\n",
        "#SC:O(1)\n",
        "num=[4,2,1,2,1,3,3]\n",
        "ans=0\n",
        "for i in num:\n",
        "  ans=ans^i\n",
        "print(ans)\n"
      ],
      "metadata": {
        "id": "Hh2zkUJPSZyk",
        "colab": {
          "base_uri": "https://localhost:8080/"
        },
        "outputId": "05bb8c25-78bf-4509-8829-0ab8f7b52b35"
      },
      "execution_count": null,
      "outputs": [
        {
          "output_type": "stream",
          "name": "stdout",
          "text": [
            "4\n"
          ]
        }
      ]
    },
    {
      "cell_type": "markdown",
      "source": [
        "### **XOR of Numbers in a Given Range**"
      ],
      "metadata": {
        "id": "n0gVgKLqCwES"
      }
    },
    {
      "cell_type": "code",
      "source": [
        "# TC:O(n)\n",
        "# SC:O(1)\n",
        "n=9\n",
        "ans=0\n",
        "for i in range(1,n+1):\n",
        "  ans=ans^i\n",
        "print(ans)"
      ],
      "metadata": {
        "id": "YuoISwKpSZ1R",
        "colab": {
          "base_uri": "https://localhost:8080/"
        },
        "outputId": "3b9bad16-bf83-4d34-dc00-3fd819e530b9"
      },
      "execution_count": null,
      "outputs": [
        {
          "output_type": "stream",
          "name": "stdout",
          "text": [
            "1\n"
          ]
        }
      ]
    },
    {
      "cell_type": "code",
      "source": [
        "# Observetion\n",
        "# TC:O(1)\n",
        "# SC:O(1)\n",
        "def fun(n):\n",
        "  if n%4==1:\n",
        "    return 1\n",
        "  elif n%4==2:\n",
        "    return n+1\n",
        "  elif n%4==3:\n",
        "    return 0\n",
        "  return n\n",
        "fun(9)"
      ],
      "metadata": {
        "id": "FwVei8LxSZ4F",
        "colab": {
          "base_uri": "https://localhost:8080/"
        },
        "outputId": "a78f9b2d-9cd0-41a4-a991-272d44f8629e"
      },
      "execution_count": null,
      "outputs": [
        {
          "output_type": "execute_result",
          "data": {
            "text/plain": [
              "1"
            ]
          },
          "metadata": {},
          "execution_count": 6
        }
      ]
    },
    {
      "cell_type": "markdown",
      "source": [
        "### **XOR of Numbers in a Given between Range**"
      ],
      "metadata": {
        "id": "LZJIDjb5EvAw"
      }
    },
    {
      "cell_type": "code",
      "source": [
        "# TC:O((k)-(n+1))\n",
        "# SC:O(1)\n",
        "k=3\n",
        "n=9\n",
        "ans=0\n",
        "for i in range(k,n+1):\n",
        "  ans=ans^i\n",
        "print(ans)"
      ],
      "metadata": {
        "id": "vRZXwNB8SZ7F",
        "colab": {
          "base_uri": "https://localhost:8080/"
        },
        "outputId": "c20227a3-091f-44b6-cdab-4c82525afac1"
      },
      "execution_count": null,
      "outputs": [
        {
          "output_type": "stream",
          "name": "stdout",
          "text": [
            "2\n"
          ]
        }
      ]
    },
    {
      "cell_type": "code",
      "source": [
        "# TC:O(1)\n",
        "# SC:O(1)\n",
        "def fun(n):\n",
        "  if n%4==1:\n",
        "    return 1\n",
        "  elif n%4==2:\n",
        "    return n+1\n",
        "  elif n%4==3:\n",
        "    return 0\n",
        "  return n\n",
        "k=3\n",
        "n=9\n",
        "ans=fun(k-1)^fun(n)\n",
        "print(ans)"
      ],
      "metadata": {
        "id": "jhRhbSeGSZ9a",
        "colab": {
          "base_uri": "https://localhost:8080/"
        },
        "outputId": "c423cd3f-341d-4b66-9279-b795227fd546"
      },
      "execution_count": null,
      "outputs": [
        {
          "output_type": "stream",
          "name": "stdout",
          "text": [
            "2\n"
          ]
        }
      ]
    },
    {
      "cell_type": "markdown",
      "source": [
        "### **Single Number III**"
      ],
      "metadata": {
        "id": "anh-VyQBK9Yp"
      }
    },
    {
      "cell_type": "code",
      "source": [
        "# TC: O(nlogm)+O(m)\n",
        "# SC: O(m)\n",
        "def twoOddNum(Arr):\n",
        "  # code here\n",
        "  d={}\n",
        "  ans=[]\n",
        "  for i in Arr:\n",
        "      if i not in d:\n",
        "          d[i]=1\n",
        "      else:\n",
        "          d[i]+=1\n",
        "  for k,v in d.items():\n",
        "      if v==1:\n",
        "          ans.append(k)\n",
        "  return ans\n",
        "Arr = [4, 2, 4, 5, 2, 3, 3, 1]\n",
        "twoOddNum(Arr)"
      ],
      "metadata": {
        "id": "V6LpEE4uSaAm",
        "colab": {
          "base_uri": "https://localhost:8080/"
        },
        "outputId": "158acb12-7242-42f8-ede1-2ea45c04f238"
      },
      "execution_count": null,
      "outputs": [
        {
          "output_type": "execute_result",
          "data": {
            "text/plain": [
              "[5, 1]"
            ]
          },
          "metadata": {},
          "execution_count": 25
        }
      ]
    },
    {
      "cell_type": "code",
      "source": [
        "# TC: O(2n)\n",
        "# SC: O(1)\n",
        "arr =[4, 2, 4, 5, 2, 3, 3, 1]\n",
        "ans=0\n",
        "for i in range(len(arr)):\n",
        "  ans=ans^arr[i]\n",
        "rightbit=(ans & ans-1)^ans\n",
        "b1=0\n",
        "b2=0\n",
        "for i in range(len(arr)):\n",
        "  if arr[i] & rightbit:\n",
        "    b1=b1^arr[i]\n",
        "  else:\n",
        "    b2=b2^arr[i]\n",
        "print(b1,b2)\n",
        "\n"
      ],
      "metadata": {
        "id": "b4ew-CgiSaBu",
        "colab": {
          "base_uri": "https://localhost:8080/"
        },
        "outputId": "0a29afa2-a43d-4010-98e5-3df78e1b1932"
      },
      "execution_count": null,
      "outputs": [
        {
          "output_type": "stream",
          "name": "stdout",
          "text": [
            "5 1\n"
          ]
        }
      ]
    },
    {
      "cell_type": "markdown",
      "source": [
        "### **Print all prime factors of a Number**"
      ],
      "metadata": {
        "id": "Mo4T5ZHlZB_G"
      }
    },
    {
      "cell_type": "code",
      "source": [
        "### Print all diviser of any number\n",
        "# TC:O(N)\n",
        "# SC:O(number of output)\n",
        "def div(n):\n",
        "  ans=[]\n",
        "  for i in range(1,n+1):\n",
        "    if n%i==0:\n",
        "      ans.append(i)\n",
        "  return ans\n",
        "div(36)"
      ],
      "metadata": {
        "colab": {
          "base_uri": "https://localhost:8080/"
        },
        "id": "FLZI6xuzkMDJ",
        "outputId": "2e189bfe-7f92-4202-9e0e-0a3239fd295d"
      },
      "execution_count": null,
      "outputs": [
        {
          "output_type": "execute_result",
          "data": {
            "text/plain": [
              "[1, 2, 3, 4, 6, 9, 12, 18, 36]"
            ]
          },
          "metadata": {},
          "execution_count": 34
        }
      ]
    },
    {
      "cell_type": "code",
      "source": [
        "# TC:O(sqrt(n))\n",
        "# SC:O(number of output)\n",
        "import math\n",
        "def div(n):\n",
        "  ans=[]\n",
        "  for i in range(1,int(math.sqrt(n))+1):\n",
        "    if n%i==0:\n",
        "      ans.append(i)\n",
        "      if n//i!=i:\n",
        "        ans.append(n//i)\n",
        "  return ans\n",
        "div(36)"
      ],
      "metadata": {
        "colab": {
          "base_uri": "https://localhost:8080/"
        },
        "id": "G3XNLV3MkvcT",
        "outputId": "19591db0-ea78-4fa5-afaf-72e95388b6ba"
      },
      "execution_count": null,
      "outputs": [
        {
          "output_type": "execute_result",
          "data": {
            "text/plain": [
              "[1, 36, 2, 18, 3, 12, 4, 9, 6]"
            ]
          },
          "metadata": {},
          "execution_count": 36
        }
      ]
    },
    {
      "cell_type": "code",
      "source": [
        "# Check prime\n",
        "#TC:O(N)\n",
        "#SC:O(1)\n",
        "def is_prime(n):\n",
        "  cnt=0\n",
        "  for i in range(1,n+1):\n",
        "    if n%i==0:\n",
        "      cnt+=1\n",
        "  if cnt==2:\n",
        "    return \"Prime\"\n",
        "  return \"Not Prime\"\n",
        "is_prime(2)"
      ],
      "metadata": {
        "id": "IvnMT5C1SaKw",
        "colab": {
          "base_uri": "https://localhost:8080/",
          "height": 35
        },
        "outputId": "181e78bd-b1d3-48c9-9e03-77f6153cc9e3"
      },
      "execution_count": null,
      "outputs": [
        {
          "output_type": "execute_result",
          "data": {
            "text/plain": [
              "'Prime'"
            ],
            "application/vnd.google.colaboratory.intrinsic+json": {
              "type": "string"
            }
          },
          "metadata": {},
          "execution_count": 14
        }
      ]
    },
    {
      "cell_type": "code",
      "source": [
        "# Check prime\n",
        "#TC:O(root(n))\n",
        "#SC:O(1)\n",
        "import math\n",
        "def is_prime(n):\n",
        "  cnt=0\n",
        "  for i in range(1,int(math.sqrt(n))+1):\n",
        "    if n==1:\n",
        "      return False\n",
        "    if n%i==0:\n",
        "      cnt+=1\n",
        "      if n%i !=i:\n",
        "        cnt+=1\n",
        "  if cnt==2:\n",
        "    return True\n",
        "  return False\n",
        "is_prime(2)"
      ],
      "metadata": {
        "id": "8CeI4mX3SaLw",
        "colab": {
          "base_uri": "https://localhost:8080/"
        },
        "outputId": "77424890-82ae-490f-8b27-8bf79c2c157c"
      },
      "execution_count": null,
      "outputs": [
        {
          "output_type": "execute_result",
          "data": {
            "text/plain": [
              "True"
            ]
          },
          "metadata": {},
          "execution_count": 2
        }
      ]
    },
    {
      "cell_type": "code",
      "source": [
        "math.ceil(math.sqrt(4))"
      ],
      "metadata": {
        "colab": {
          "base_uri": "https://localhost:8080/"
        },
        "id": "vQM-IKGGo-4Y",
        "outputId": "65864427-541a-476e-c23e-93d6a5e67e9a"
      },
      "execution_count": null,
      "outputs": [
        {
          "output_type": "execute_result",
          "data": {
            "text/plain": [
              "2"
            ]
          },
          "metadata": {},
          "execution_count": 45
        }
      ]
    },
    {
      "cell_type": "code",
      "source": [
        "#TC:O(root(n)+logn)\n",
        "#SC:O(number of output)\n",
        "import math\n",
        "def prime_fact(n):\n",
        "  ans=[]\n",
        "  for i in range(1,math.ceil(math.sqrt(n))+1):\n",
        "    if n%i==0:\n",
        "      if is_prime(i):\n",
        "        ans.append(i)\n",
        "      if n//i!=i:\n",
        "        if is_prime(n//i):\n",
        "          ans.append(n//i)\n",
        "  return ans\n",
        "prime_fact(4)"
      ],
      "metadata": {
        "id": "-kU9TN1KSaOl",
        "colab": {
          "base_uri": "https://localhost:8080/"
        },
        "outputId": "315be20f-2b39-4cb3-f196-3734ffc3099f"
      },
      "execution_count": null,
      "outputs": [
        {
          "output_type": "execute_result",
          "data": {
            "text/plain": [
              "[2]"
            ]
          },
          "metadata": {},
          "execution_count": 4
        }
      ]
    },
    {
      "cell_type": "markdown",
      "source": [
        "### **Sieve of Eratosthenes**"
      ],
      "metadata": {
        "id": "Z0XdAc6CT371"
      }
    },
    {
      "cell_type": "code",
      "source": [
        "def fun(n):\n",
        "  cnt=0\n",
        "  for i in range(2,n+1):\n",
        "    if is_prime(i):\n",
        "      cnt+=1\n",
        "  return cnt\n",
        "fun(99)"
      ],
      "metadata": {
        "id": "9npX7w5kSaPt",
        "colab": {
          "base_uri": "https://localhost:8080/"
        },
        "outputId": "9d61c015-b635-4e7e-a158-988aab4bf484"
      },
      "execution_count": null,
      "outputs": [
        {
          "output_type": "execute_result",
          "data": {
            "text/plain": [
              "25"
            ]
          },
          "metadata": {},
          "execution_count": 3
        }
      ]
    },
    {
      "cell_type": "code",
      "source": [
        "def fun(n):\n",
        "  prime=[1]*(n+1)\n",
        "  cnt=0\n",
        "  for i in range(2,n+1):\n",
        "    if prime[i]==1:\n",
        "      for j in range(2*i,n+1,i):\n",
        "        prime[j]=0\n",
        "  for i in range(2,n):\n",
        "    if prime[i]==1:\n",
        "      cnt+=1\n",
        "  return cnt\n",
        "fun(6)"
      ],
      "metadata": {
        "id": "a5zP5Zj4SaUj",
        "colab": {
          "base_uri": "https://localhost:8080/"
        },
        "outputId": "a110f378-0c28-4331-bc98-2ef5e776cca1"
      },
      "execution_count": null,
      "outputs": [
        {
          "output_type": "execute_result",
          "data": {
            "text/plain": [
              "3"
            ]
          },
          "metadata": {},
          "execution_count": 20
        }
      ]
    },
    {
      "cell_type": "markdown",
      "source": [
        "### **Smallest Prime Factor (SPF) | Prime Factorisation**"
      ],
      "metadata": {
        "id": "gIn75tOGij8E"
      }
    },
    {
      "cell_type": "code",
      "source": [
        "def fun(n):\n",
        "  spf=[0]*(10**5+1)\n",
        "  for i in range(2,10**5+1):\n",
        "    spf[i]=i\n",
        "  for i in range(2,10**5+1):\n",
        "    if spf[i]==i:\n",
        "      j=i*i\n",
        "      for j in range(i*i,10**5+1,j+i):\n",
        "        if spf[j]==j:\n",
        "          spf[j]=i\n",
        "  for i in range(2,n):\n",
        "    num=spf[i]\n",
        "    while num!=1:\n",
        "      print(spf[num])\n",
        "      num=num/spf[num]\n",
        "fun(10)"
      ],
      "metadata": {
        "id": "1k9wrSaASaid",
        "colab": {
          "base_uri": "https://localhost:8080/"
        },
        "outputId": "73ed51e4-2a89-4b1c-df0f-4b8c8ee08997"
      },
      "execution_count": null,
      "outputs": [
        {
          "output_type": "stream",
          "name": "stdout",
          "text": [
            "2\n",
            "3\n",
            "2\n",
            "5\n",
            "6\n",
            "7\n",
            "8\n",
            "3\n"
          ]
        }
      ]
    },
    {
      "cell_type": "code",
      "source": [],
      "metadata": {
        "id": "j6ZPNj7eSa2b"
      },
      "execution_count": null,
      "outputs": []
    }
  ]
}